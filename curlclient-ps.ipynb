{
 "cells": [
  {
   "cell_type": "raw",
   "id": "4635ad6f-7f8b-4a5a-868f-ab62c3849ac2",
   "metadata": {},
   "source": [
    "#include <cstdio>\n",
    "#include <iostream>\n",
    "#include <map>\n",
    "\n",
    "#include \"CurlClient.h\"\n",
    "\n",
    "using namespace Nequeo::Net;\n",
    "\n",
    "int main()\n",
    "{\n",
    "    CurlClient cURL;\n",
    "    std::string url = \"https://google.com/\";\n",
    "    std::string responseBody = \"\";\n",
    "    std::string responseHeaders = \"\";\n",
    "    std::map<std::string, std::string> requestHeaders;\n",
    "\n",
    "    requestHeaders[\"Authorization: \"] = \"Bearer token\";\n",
    "    requestHeaders.insert({ \"Authoriz: \", \"Bearer token\" });\n",
    "    requestHeaders.insert(std::pair<std::string, std::string>({ \"Authotion: \", \"Bearer token\" }));\n",
    "\n",
    "    bool ret = cURL.Get(url, requestHeaders, &responseBody, &responseHeaders);\n",
    "\n",
    "    std::cout << responseHeaders << std::endl;\n",
    "    std::cout << responseBody << std::endl;\n",
    "    return 0;\n",
    "}"
   ]
  }
 ],
 "metadata": {
  "kernelspec": {
   "display_name": ".NET (PowerShell)",
   "language": "PowerShell",
   "name": ".net-powershell"
  },
  "language_info": {
   "file_extension": ".ps1",
   "mimetype": "text/x-powershell",
   "name": "PowerShell",
   "pygments_lexer": "powershell",
   "version": "7.0"
  }
 },
 "nbformat": 4,
 "nbformat_minor": 5
}
