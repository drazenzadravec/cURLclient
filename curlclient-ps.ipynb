{
 "cells": [
  {
   "cell_type": "markdown",
   "id": "46074e88-3b16-4345-9ef5-cbc72f912f6f",
   "metadata": {},
   "source": [
    "## Get"
   ]
  },
  {
   "cell_type": "code",
   "execution_count": null,
   "id": "e34e64a0-28fc-4dc5-8afe-4b374349b00d",
   "metadata": {},
   "outputs": [],
   "source": [
    "#include <cstdio>\n",
    "#include <iostream>\n",
    "#include <map>\n",
    "\n",
    "#include \"CurlClient.h\"\n",
    "\n",
    "using namespace Nequeo::Net;\n",
    "\n",
    "int main()\n",
    "{\n",
    "    CurlClient cURL;\n",
    "    std::string url = \"https://google.com/\";\n",
    "    std::string responseBody = \"\";\n",
    "    std::string responseHeaders = \"\";\n",
    "    std::map<std::string, std::string> requestHeaders;\n",
    "\n",
    "    requestHeaders[\"Authorization\"] = \"Bearer token\";\n",
    "    requestHeaders.insert({ \"Authoriz\", \"Bearer token\" });\n",
    "    requestHeaders.insert(std::pair<std::string, std::string>({ \"Authotion\", \"Bearer token\" }));\n",
    "\n",
    "    bool ret = cURL.Get(url, requestHeaders, &responseBody, &responseHeaders);\n",
    "\n",
    "    std::cout << responseHeaders << std::endl;\n",
    "    std::cout << responseBody << std::endl;\n",
    "    return 0;\n",
    "}"
   ]
  },
  {
   "cell_type": "markdown",
   "id": "35510906-fe6e-4d9b-a0f6-09397686435e",
   "metadata": {},
   "source": [
    "## Post"
   ]
  },
  {
   "cell_type": "code",
   "execution_count": null,
   "id": "6be2ec1d-ee61-4544-a074-17dc1fc38f6a",
   "metadata": {},
   "outputs": [],
   "source": [
    "#include <cstdio>\n",
    "#include <iostream>\n",
    "#include <map>\n",
    "\n",
    "#include \"CurlClient.h\"\n",
    "\n",
    "using namespace Nequeo::Net;\n",
    "\n",
    "int main()\n",
    "{\n",
    "    CurlClient cURL;\n",
    "    std::string url = \"https://google.com/\";\n",
    "    std::string responseBody = \"\";\n",
    "    std::string responseHeaders = \"\";\n",
    "\n",
    "    std::string requestContentType = \"application/json\";\n",
    "\tstd::string requestBody =\n",
    "\t\t\"{\\\"uniqueid\\\":\\\"\" + uniqueid + \"\\\",\" +\n",
    "\t\t\"\\\"applicationid\\\":\\\"\" + applicationid + \"\\\",\" +\n",
    "\t\t\"\\\"accesstoken\\\":\\\"\" + accesstoken + \"\\\"}\";\n",
    "        \n",
    "    bool ret = cURL.Post(url, requestBody, requestContentType, &responseBody, &responseHeaders);\n",
    "\n",
    "    std::cout << responseHeaders << std::endl;\n",
    "    std::cout << responseBody << std::endl;\n",
    "    return 0;\n",
    "}"
   ]
  }
 ],
 "metadata": {
  "kernelspec": {
   "display_name": ".NET (PowerShell)",
   "language": "PowerShell",
   "name": ".net-powershell"
  },
  "language_info": {
   "file_extension": ".ps1",
   "mimetype": "text/x-powershell",
   "name": "PowerShell",
   "pygments_lexer": "powershell",
   "version": "7.0"
  }
 },
 "nbformat": 4,
 "nbformat_minor": 5
}
